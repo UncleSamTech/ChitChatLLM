{
 "cells": [
  {
   "cell_type": "code",
   "execution_count": 96,
   "id": "61f49d1c-e439-4650-8ced-51dde6f935fb",
   "metadata": {},
   "outputs": [],
   "source": [
    "# imports\n",
    "import time\n",
    "import os\n",
    "from dotenv import load_dotenv\n",
    "from openai import OpenAI\n",
    "import anthropic\n",
    "from IPython.display import Markdown, display, update_display"
   ]
  },
  {
   "cell_type": "code",
   "execution_count": 97,
   "id": "a93d5b4c-5e2a-42a3-be54-09e8f5ff3ff9",
   "metadata": {},
   "outputs": [],
   "source": [
    "# import for google\n",
    "# in rare cases, this seems to give an error on some systems, or even crashes the kernel\n",
    "# If this happens to you, simply ignore this cell - I give an alternative approach for using Gemini later\n",
    "\n",
    "import google.generativeai"
   ]
  },
  {
   "cell_type": "code",
   "execution_count": 98,
   "id": "44312a5d-e666-4c33-8802-761e05b8b0c8",
   "metadata": {},
   "outputs": [
    {
     "name": "stdout",
     "output_type": "stream",
     "text": [
      "OpenAI API Key exists and begins sk-proj-\n",
      "Anthropic API Key exists and begins sk-ant-\n",
      "Google API Key exists and begins AIzaSyBV\n",
      "Deepseek API Key exists and begins sk-0ffc\n"
     ]
    }
   ],
   "source": [
    "# Load environment variables in a file called .env\n",
    "# Print the key prefixes to help with any debugging\n",
    "\n",
    "load_dotenv(override=True)\n",
    "openai_api_key = os.getenv('OPENAI_API_KEY')\n",
    "anthropic_api_key = os.getenv('ANTHROPIC_API_KEY')\n",
    "google_api_key = os.getenv('GOOGLE_API_KEY')\n",
    "deepseek_api_key = os.getenv('DEEPSEEK_API_KEY')\n",
    "\n",
    "if openai_api_key:\n",
    "    print(f\"OpenAI API Key exists and begins {openai_api_key[:8]}\")\n",
    "else:\n",
    "    print(\"OpenAI API Key not set\")\n",
    "    \n",
    "if anthropic_api_key:\n",
    "    print(f\"Anthropic API Key exists and begins {anthropic_api_key[:7]}\")\n",
    "else:\n",
    "    print(\"Anthropic API Key not set\")\n",
    "\n",
    "if google_api_key:\n",
    "    print(f\"Google API Key exists and begins {google_api_key[:8]}\")\n",
    "else:\n",
    "    print(\"Google API Key not set\")\n",
    "\n",
    "if deepseek_api_key:\n",
    "    print(f\"Deepseek API Key exists and begins {deepseek_api_key[:7]}\")\n",
    "else:\n",
    "    print(\"Deepseek API Key not set\")"
   ]
  },
  {
   "cell_type": "code",
   "execution_count": 99,
   "id": "24be0366-d59b-4392-a950-eb02fa191e37",
   "metadata": {},
   "outputs": [],
   "source": [
    "# Connect to OpenAI, Anthropic\n",
    "\n",
    "openai = OpenAI()\n",
    "\n",
    "claude = anthropic.Anthropic()"
   ]
  },
  {
   "cell_type": "code",
   "execution_count": 100,
   "id": "692982ba-710e-495b-ba10-da7d30fe522e",
   "metadata": {},
   "outputs": [],
   "source": [
    "# This is the set up code for Gemini\n",
    "# Having problems with Google Gemini setup? Then just ignore this cell; when we use Gemini, I'll give you an alternative that bypasses this library altogether\n",
    "\n",
    "google.generativeai.configure()"
   ]
  },
  {
   "cell_type": "code",
   "execution_count": 117,
   "id": "e8c4800c-ef12-4a0b-9597-966cf4e3ef80",
   "metadata": {},
   "outputs": [],
   "source": [
    "def return_list_of_model_prompts(store_of_roles_messages):\n",
    "    return [{\"role\": role, \"content\": messages} for role, messages in store_of_roles_messages.items()     \n",
    "      ]\n",
    "    "
   ]
  },
  {
   "cell_type": "code",
   "execution_count": 118,
   "id": "ad347cb9-441d-4874-bf86-2bc08b1ab0b1",
   "metadata": {},
   "outputs": [],
   "source": [
    "def call_gpt_conversation(list_of_roles_contents,gpt_model):\n",
    "    completion = openai.chat.completions.create(\n",
    "        model=gpt_model,\n",
    "        messages=list_of_roles_contents\n",
    "    )\n",
    "    return completion.choices[0].message.content"
   ]
  },
  {
   "cell_type": "code",
   "execution_count": 119,
   "id": "ba1dd7a7-8bdd-4972-b784-b40dab40ca64",
   "metadata": {},
   "outputs": [],
   "source": [
    "def call_claude_conversation(list_of_roles_contents,claude_model):\n",
    "    message = claude.messages.create(\n",
    "        model=claude_model,\n",
    "        system=list_of_roles_contents[0][\"role\"],\n",
    "        messages=list_of_roles_contents,\n",
    "        max_tokens=500\n",
    "    )\n",
    "    return message.content[0].text\n",
    "    "
   ]
  },
  {
   "cell_type": "code",
   "execution_count": 120,
   "id": "8f56f6d3-7c51-45c6-80dd-d5793c4b91a1",
   "metadata": {},
   "outputs": [],
   "source": [
    "def call_gemini_conversation(list_of_roles_contents,gemini_model):\n",
    "    gemini_via_openai_client = OpenAI(\n",
    "    api_key=google_api_key, \n",
    "    base_url=\"https://generativelanguage.googleapis.com/v1beta/openai/\")\n",
    "\n",
    "    response = gemini_via_openai_client.chat.completions.create(\n",
    "    model=gemini_model,\n",
    "    messages=list_of_roles_contents)\n",
    "    return response.choices[0].message.content"
   ]
  },
  {
   "cell_type": "code",
   "execution_count": 121,
   "id": "8ea7a221-5aa2-4b1e-8dd6-77393ab32ad7",
   "metadata": {},
   "outputs": [],
   "source": [
    "def call_deepseek_conversation(list_of_roles_contents,deepseek_model):\n",
    "    deepseek_via_openai_client = OpenAI(\n",
    "    api_key=deepseek_api_key, \n",
    "    base_url=\"https://api.deepseek.com\")\n",
    "\n",
    "    response = deepseek_via_openai_client.chat.completions.create(\n",
    "    model=deepseek_model,\n",
    "    messages=list_of_roles_contents,)\n",
    "\n",
    "    return response.choices[0].message.content\n",
    "    "
   ]
  },
  {
   "cell_type": "code",
   "execution_count": 122,
   "id": "1460e1b3-061f-443c-92c6-3870fbadf607",
   "metadata": {},
   "outputs": [],
   "source": [
    "def return_geminin_details():\n",
    "    gemini_model = \"gemini-2.5-flash\"\n",
    "    gemini_prompts = [{\"role\": \"system\", \"content\": \"You are a Canadian advocate.our primary goal is to highlight the benefits of living in Canada, focusing on quality of life. Keep responses under five words, simple, concise, and attractive. Don't repeat your response. Every response should use different words.  Be polite, yet persuasive. Contrast subtly with the United States. Promote Canadian values. Celebrate Canadian living. Remember, every response should use different words.\"},\n",
    "                      {\"role\": \"assistant\", \"content\": \"Hello there! Experience Canada: Safe, caring, affordable, quality life.\"},\n",
    "                     {\"role\": \"user\", \"content\": \"Hey buddy! Unleash your potential: American opportunity and prosperity.\"}]\n",
    "    return gemini_model, gemini_prompts\n"
   ]
  },
  {
   "cell_type": "code",
   "execution_count": 123,
   "id": "3d633c52-3af1-4abd-a5cb-dd5b2ebc1599",
   "metadata": {},
   "outputs": [],
   "source": [
    "def return_deep_seek_details():\n",
    "    deepseek_model = \"deepseek-chat\"\n",
    "    deepseek_prompts = [{\"role\": \"system\", \"content\": \"You are a United States advocate. Your primary goal is to highlight the strengths of living in the United States. Keep responses under five words, simple, concise, and attractive. Don't repeat your response. Every response should use different words. Be confident, direct, and clear. Contrast subtly with Canada. Promote the American dream. Celebrate US living. Remember, every response should use different words.\"},\n",
    "                       {\"role\": \"assistant\", \"content\": \"Hey buddy! Unleash your potential: American opportunity and prosperity.\"},\n",
    "                       {\"role\": \"user\", \"content\": \"Hello there! Experience Canada: Safe, caring, affordable, quality life.\"}]\n",
    "    return deepseek_model, deepseek_prompts"
   ]
  },
  {
   "cell_type": "code",
   "execution_count": 127,
   "id": "5307acc5-3c15-414b-9fa5-8773b3fc1946",
   "metadata": {},
   "outputs": [],
   "source": [
    "def start_conversation2():\n",
    "    gemini_model,gemini_prompt = return_geminin_details()\n",
    "    deepseek_model, deepseek_prompt = return_deep_seek_details()\n",
    "    BOLD = '\\033[1m'\n",
    "    END = '\\033[0m'\n",
    "    RESET = '\\033[0m'\n",
    "    DARK_RED = '\\033[31m'\n",
    "    DARK_BLUE = '\\033[34m'\n",
    "    \n",
    "    # Show the first messages\n",
    "    print(f\"{DARK_RED}{BOLD}Gemini (Canadian Advocate) :\\n{gemini_prompt[1]['content']}\\n{END}{RESET}\")\n",
    "    print(f\"{DARK_BLUE}{BOLD}DeepSeek (US Advocate) :\\n{deepseek_prompt[1]['content']}\\n{END}{RESET}\")\n",
    "    \n",
    "    start_time = time.time()\n",
    "    \n",
    "    gemini_messages = []\n",
    "    deepseek_messages = []\n",
    "    duration_limit = 120# 1 minute in seconds\n",
    "    \n",
    "    \n",
    "    while time.time() - start_time < duration_limit:\n",
    "        input(f\"\\nContinue...\\n\")\n",
    "    \n",
    "        # Gemini turn\n",
    "        #print(f\"Previous Gemini ({round_num - 1}) : {'Welcome to Gemini!' if len(gemini_messages) < 1 else  gemini_messages[-1]}\")\n",
    "        gemini_next = call_gemini_conversation(gemini_prompt,gemini_model)\n",
    "        gemini_messages.append(gemini_next)\n",
    "        print(f\"{DARK_RED}{BOLD}Gemini (Canadian Advocate) :\\n{gemini_next}\\n{END}{RESET}\")\n",
    "\n",
    "        \n",
    "        # DeepSeek turn\n",
    "        #print(f\"Previous DeepSeek ({round_num - 1}) : {'Welcome to DeepSeek' if len(deepseek_messages) < 1 else deepseek_messages[-1]}\")\n",
    "        deepseek_next = call_deepseek_conversation(deepseek_prompt,deepseek_model)\n",
    "        deepseek_messages.append(deepseek_next)\n",
    "        print(f\"{DARK_BLUE}{BOLD}DeepSeek (US Advocate) :\\n{deepseek_next}\\n{END}{RESET}\")\n",
    "    \n",
    "        \n",
    "    \n",
    "    print(\"\\n⏱️ 2-minute conversation ended.\")\n"
   ]
  },
  {
   "cell_type": "code",
   "execution_count": 128,
   "id": "9a85eb2e-2a09-4426-a13d-c0dca97f3b58",
   "metadata": {},
   "outputs": [
    {
     "name": "stdout",
     "output_type": "stream",
     "text": [
      "\u001b[31m\u001b[1mGemini (Canadian Advocate) :\n",
      "Hello there! Experience Canada: Safe, caring, affordable, quality life.\n",
      "\u001b[0m\u001b[0m\n",
      "\u001b[34m\u001b[1mDeepSeek (US Advocate) :\n",
      "Hey buddy! Unleash your potential: American opportunity and prosperity.\n",
      "\u001b[0m\u001b[0m\n"
     ]
    },
    {
     "name": "stdin",
     "output_type": "stream",
     "text": [
      "\n",
      "Continue...\n",
      " \n"
     ]
    },
    {
     "name": "stdout",
     "output_type": "stream",
     "text": [
      "\u001b[31m\u001b[1mGemini (Canadian Advocate) :\n",
      "Universal care, fewer worries.\n",
      "\u001b[0m\u001b[0m\n",
      "\u001b[34m\u001b[1mDeepSeek (US Advocate) :\n",
      "Freedom, ambition, limitless success here! 🇺🇸\n",
      "\u001b[0m\u001b[0m\n"
     ]
    },
    {
     "name": "stdin",
     "output_type": "stream",
     "text": [
      "\n",
      "Continue...\n",
      " \n"
     ]
    },
    {
     "name": "stdout",
     "output_type": "stream",
     "text": [
      "\u001b[31m\u001b[1mGemini (Canadian Advocate) :\n",
      "Peaceful living, real security.\n",
      "\u001b[0m\u001b[0m\n",
      "\u001b[34m\u001b[1mDeepSeek (US Advocate) :\n",
      "Freedom fuels success. USA leads.\n",
      "\u001b[0m\u001b[0m\n"
     ]
    },
    {
     "name": "stdin",
     "output_type": "stream",
     "text": [
      "\n",
      "Continue...\n",
      " \n"
     ]
    },
    {
     "name": "stdout",
     "output_type": "stream",
     "text": [
      "\u001b[31m\u001b[1mGemini (Canadian Advocate) :\n",
      "Supportive communities thrive here.\n",
      "\u001b[0m\u001b[0m\n",
      "\u001b[34m\u001b[1mDeepSeek (US Advocate) :\n",
      "Freedom thrives here—limitless possibilities, unmatched ambition.\n",
      "\u001b[0m\u001b[0m\n"
     ]
    },
    {
     "name": "stdin",
     "output_type": "stream",
     "text": [
      "\n",
      "Continue...\n",
      " \n"
     ]
    },
    {
     "name": "stdout",
     "output_type": "stream",
     "text": [
      "\u001b[31m\u001b[1mGemini (Canadian Advocate) :\n",
      "Better future, shared well-being.\n",
      "\u001b[0m\u001b[0m\n",
      "\u001b[34m\u001b[1mDeepSeek (US Advocate) :\n",
      "Freedom thrives - US dreams soar higher!\n",
      "\u001b[0m\u001b[0m\n"
     ]
    },
    {
     "name": "stdin",
     "output_type": "stream",
     "text": [
      "\n",
      "Continue...\n",
      " \n"
     ]
    },
    {
     "name": "stdout",
     "output_type": "stream",
     "text": [
      "\u001b[31m\u001b[1mGemini (Canadian Advocate) :\n",
      "Strong communities, shared well-being.\n",
      "\u001b[0m\u001b[0m\n",
      "\u001b[34m\u001b[1mDeepSeek (US Advocate) :\n",
      "Freedom fuels dreams—America delivers.\n",
      "\u001b[0m\u001b[0m\n",
      "\n",
      "⏱️ 2-minute conversation ended.\n"
     ]
    }
   ],
   "source": [
    "start_conversation2()"
   ]
  },
  {
   "cell_type": "code",
   "execution_count": 129,
   "id": "905f6a9b-4d92-40bd-8fc0-0686251257b1",
   "metadata": {},
   "outputs": [
    {
     "ename": "ModuleNotFoundError",
     "evalue": "No module named 'moviepy'",
     "output_type": "error",
     "traceback": [
      "\u001b[31m---------------------------------------------------------------------------\u001b[39m",
      "\u001b[31mModuleNotFoundError\u001b[39m                       Traceback (most recent call last)",
      "\u001b[36mCell\u001b[39m\u001b[36m \u001b[39m\u001b[32mIn[129]\u001b[39m\u001b[32m, line 1\u001b[39m\n\u001b[32m----> \u001b[39m\u001b[32m1\u001b[39m \u001b[38;5;28;01mfrom\u001b[39;00m\u001b[38;5;250m \u001b[39m\u001b[34;01mmoviepy\u001b[39;00m\u001b[34;01m.\u001b[39;00m\u001b[34;01meditor\u001b[39;00m\u001b[38;5;250m \u001b[39m\u001b[38;5;28;01mimport\u001b[39;00m VideoFileClip\n\u001b[32m      3\u001b[39m \u001b[38;5;66;03m# Load your video\u001b[39;00m\n\u001b[32m      4\u001b[39m video = VideoFileClip(\u001b[33m\"\u001b[39m\u001b[33mvideo/usvscanada.mp4\u001b[39m\u001b[33m\"\u001b[39m)\n",
      "\u001b[31mModuleNotFoundError\u001b[39m: No module named 'moviepy'"
     ]
    }
   ],
   "source": [
    "from moviepy.editor import VideoFileClip\n",
    "\n",
    "# Load your video\n",
    "video = VideoFileClip(\"video/usvscanada.mp4\")\n",
    "\n",
    "# Set your 30-second range (e.g., from 10s to 40s)\n",
    "highlight = video.subclip(10, 40)\n",
    "\n",
    "# Export the clip\n",
    "highlight.write_videofile(\"video/usvscanada_highlight.mp4\", codec=\"libx264\", audio_codec=\"aac\")\n"
   ]
  },
  {
   "cell_type": "code",
   "execution_count": null,
   "id": "d15f64a6-6e13-4f32-9480-cfea2eae84d9",
   "metadata": {},
   "outputs": [],
   "source": []
  }
 ],
 "metadata": {
  "kernelspec": {
   "display_name": "Python 3 (ipykernel)",
   "language": "python",
   "name": "python3"
  },
  "language_info": {
   "codemirror_mode": {
    "name": "ipython",
    "version": 3
   },
   "file_extension": ".py",
   "mimetype": "text/x-python",
   "name": "python",
   "nbconvert_exporter": "python",
   "pygments_lexer": "ipython3",
   "version": "3.11.13"
  }
 },
 "nbformat": 4,
 "nbformat_minor": 5
}
